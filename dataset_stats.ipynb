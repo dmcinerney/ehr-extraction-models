{
 "cells": [
  {
   "cell_type": "code",
   "execution_count": 7,
   "metadata": {},
   "outputs": [],
   "source": [
    "import pandas as pd\n",
    "from tqdm import tqdm"
   ]
  },
  {
   "cell_type": "code",
   "execution_count": 8,
   "metadata": {},
   "outputs": [],
   "source": [
    "def get_patient_id(reports):\n",
    "    df = pd.DataFrame(eval(reports))\n",
    "    return df.patient_id.iloc[0]"
   ]
  },
  {
   "cell_type": "code",
   "execution_count": 10,
   "metadata": {},
   "outputs": [
    {
     "name": "stderr",
     "output_type": "stream",
     "text": [
      "\n",
      "\n",
      "0it [00:00, ?it/s]\u001b[A\u001b[A\n",
      "\n",
      "1it [00:07,  7.56s/it]\u001b[A\u001b[A\n",
      "\n",
      "2it [00:17,  8.20s/it]\u001b[A\u001b[A\n",
      "\n",
      "3it [00:24,  7.91s/it]\u001b[A\u001b[A\n",
      "\n",
      "4it [00:33,  8.35s/it]\u001b[A\u001b[A\n",
      "\n",
      "5it [00:42,  8.46s/it]\u001b[A\u001b[A\n",
      "\n",
      "6it [00:48,  7.78s/it]\u001b[A\u001b[A\n",
      "\n",
      "7it [00:55,  7.57s/it]\u001b[A\u001b[A\n",
      "\n",
      "8it [01:03,  7.46s/it]\u001b[A\u001b[A\n",
      "\n",
      "9it [01:10,  7.60s/it]\u001b[A\u001b[A\n",
      "\n",
      "10it [01:21,  8.37s/it]\u001b[A\u001b[A\n",
      "\n",
      "11it [01:28,  8.05s/it]\u001b[A\u001b[A\n",
      "\n",
      "12it [01:38,  8.56s/it]\u001b[A\u001b[A\n",
      "\n",
      "13it [01:43,  7.62s/it]\u001b[A\u001b[A\n",
      "\n",
      "14it [01:52,  8.10s/it]\u001b[A\u001b[A\n",
      "\n",
      "15it [02:01,  8.18s/it]\u001b[A\u001b[A\n",
      "\n",
      "16it [02:08,  8.01s/it]\u001b[A\u001b[A\n",
      "\n",
      "17it [02:18,  8.60s/it]\u001b[A\u001b[A\n",
      "\n",
      "18it [02:28,  9.00s/it]\u001b[A\u001b[A\n",
      "\n",
      "19it [02:40,  9.80s/it]\u001b[A\u001b[A\n",
      "\n",
      "20it [02:47,  8.95s/it]\u001b[A\u001b[A\n",
      "\n",
      "21it [02:53,  8.22s/it]\u001b[A\u001b[A\n",
      "\n",
      "22it [02:59,  7.48s/it]\u001b[A\u001b[A\n",
      "\n",
      "23it [03:06,  7.33s/it]\u001b[A\u001b[A\n",
      "\n",
      "24it [03:14,  7.41s/it]\u001b[A\u001b[A\n",
      "\n",
      "25it [03:25,  8.49s/it]\u001b[A\u001b[A\n",
      "\n",
      "26it [03:34,  8.83s/it]\u001b[A\u001b[A\n",
      "\n",
      "27it [03:41,  8.24s/it]\u001b[A\u001b[A\n",
      "\n",
      "28it [03:50,  8.29s/it]\u001b[A\u001b[A\n",
      "\n",
      "29it [03:59,  8.62s/it]\u001b[A\u001b[A\n",
      "\n",
      "30it [04:10,  9.39s/it]\u001b[A\u001b[A\n",
      "\n",
      "31it [04:19,  9.32s/it]\u001b[A\u001b[A\n",
      "\n",
      "32it [04:29,  9.36s/it]\u001b[A\u001b[A\n",
      "\n",
      "33it [04:40,  9.89s/it]\u001b[A\u001b[A\n",
      "\n",
      "34it [04:51, 10.16s/it]\u001b[A\u001b[A\n",
      "\n",
      "35it [04:58,  9.16s/it]\u001b[A\u001b[A\n",
      "\n",
      "36it [05:04,  8.47s/it]\u001b[A\u001b[A\n",
      "\n",
      "37it [05:14,  8.69s/it]\u001b[A\u001b[A\n",
      "\n",
      "38it [05:25,  9.41s/it]\u001b[A\u001b[A\n",
      "\n",
      "39it [05:34,  9.43s/it]\u001b[A\u001b[A\n",
      "\n",
      "40it [05:43,  9.14s/it]\u001b[A\u001b[A\n",
      "\n",
      "41it [05:52,  9.21s/it]\u001b[A\u001b[A\n",
      "\n",
      "42it [06:02,  9.34s/it]\u001b[A\u001b[A\n",
      "\n",
      "43it [06:08,  8.45s/it]\u001b[A\u001b[A\n",
      "\n",
      "44it [06:15,  7.90s/it]\u001b[A\u001b[A\n",
      "\n",
      "45it [06:22,  7.63s/it]\u001b[A\u001b[A\n",
      "\n",
      "46it [06:31,  8.13s/it]\u001b[A\u001b[A\n",
      "\n",
      "47it [06:37,  7.58s/it]\u001b[A\u001b[A\n",
      "\n",
      "48it [06:44,  7.37s/it]\u001b[A\u001b[A\n",
      "\n",
      "49it [06:52,  7.66s/it]\u001b[A\u001b[A\n",
      "\n",
      "50it [06:59,  7.28s/it]\u001b[A\u001b[A\n",
      "\n",
      "51it [07:05,  7.02s/it]\u001b[A\u001b[A\n",
      "\n",
      "52it [07:17,  8.30s/it]\u001b[A\u001b[A\n",
      "\n",
      "53it [07:25,  8.22s/it]\u001b[A\u001b[A\n",
      "\n",
      "54it [07:31,  7.59s/it]\u001b[A\u001b[A\n",
      "\n",
      "55it [07:38,  7.52s/it]\u001b[A\u001b[A\n",
      "\n",
      "56it [07:45,  7.28s/it]\u001b[A\u001b[A\n",
      "\n",
      "57it [07:53,  7.68s/it]\u001b[A\u001b[A\n",
      "\n",
      "58it [08:02,  8.00s/it]\u001b[A\u001b[A\n",
      "\n",
      "59it [08:10,  7.86s/it]\u001b[A\u001b[A\n",
      "\n",
      "60it [08:21,  8.84s/it]\u001b[A\u001b[A\n",
      "\n",
      "61it [08:30,  9.03s/it]\u001b[A\u001b[A\n",
      "\n",
      "62it [08:38,  8.58s/it]\u001b[A\u001b[A\n",
      "\n",
      "63it [08:46,  8.33s/it]\u001b[A\u001b[A\n",
      "\n",
      "64it [08:56,  9.01s/it]\u001b[A\u001b[A\n",
      "\n",
      "65it [09:03,  8.38s/it]\u001b[A\u001b[A\n",
      "\n",
      "66it [09:10,  7.92s/it]\u001b[A\u001b[A\n",
      "\n",
      "67it [09:18,  7.94s/it]\u001b[A\u001b[A\n",
      "\n",
      "68it [09:27,  8.38s/it]\u001b[A\u001b[A\n",
      "\n",
      "69it [09:34,  7.98s/it]\u001b[A\u001b[A\n",
      "\n",
      "70it [09:40,  7.37s/it]\u001b[A\u001b[A\n",
      "\n",
      "71it [09:48,  7.45s/it]\u001b[A\u001b[A\n",
      "\n",
      "72it [09:54,  7.06s/it]\u001b[A\u001b[A\n",
      "\n",
      "73it [10:02,  7.22s/it]\u001b[A\u001b[A\n",
      "\n",
      "74it [10:08,  7.01s/it]\u001b[A\u001b[A\n",
      "\n",
      "75it [10:18,  7.99s/it]\u001b[A\u001b[A\n",
      "\n",
      "76it [10:30,  9.16s/it]\u001b[A\u001b[A\n",
      "\n",
      "77it [10:39,  8.90s/it]\u001b[A\u001b[A\n",
      "\n",
      "78it [10:49,  9.23s/it]\u001b[A\u001b[A\n",
      "\n",
      "79it [10:57,  8.85s/it]\u001b[A\u001b[A\n",
      "\n",
      "80it [11:04,  8.29s/it]\u001b[A\u001b[A\n",
      "\n",
      "81it [11:13,  8.53s/it]\u001b[A\u001b[A\n",
      "\n",
      "82it [11:20,  8.17s/it]\u001b[A\u001b[A\n",
      "\n",
      "83it [11:26,  7.66s/it]\u001b[A\u001b[A\n",
      "\n",
      "84it [11:36,  8.11s/it]\u001b[A\u001b[A\n",
      "\n",
      "85it [11:42,  7.71s/it]\u001b[A\u001b[A\n",
      "\n",
      "86it [11:50,  7.62s/it]\u001b[A\u001b[A\n",
      "\n",
      "87it [12:00,  8.33s/it]\u001b[A\u001b[A\n",
      "\n",
      "88it [12:09,  8.45s/it]\u001b[A\u001b[A\n",
      "\n",
      "89it [12:17,  8.29s/it]\u001b[A\u001b[A\n"
     ]
    }
   ],
   "source": [
    "patient_ids = None\n",
    "chunk_iterator = tqdm(pd.read_csv('train.data', compression='gzip', chunksize=1000))\n",
    "for x in chunk_iterator:\n",
    "    patient_ids_temp = x.reports.apply(get_patient_id)\n",
    "    if patient_ids is None:\n",
    "        patient_ids = patient_ids_temp\n",
    "    else:\n",
    "        patient_ids = pd.concat([patient_ids, patient_ids_temp])"
   ]
  },
  {
   "cell_type": "code",
   "execution_count": 11,
   "metadata": {},
   "outputs": [
    {
     "data": {
      "text/plain": [
       "0        104602972\n",
       "1        104602972\n",
       "2        104602972\n",
       "3        104602972\n",
       "4        104602972\n",
       "           ...    \n",
       "88851    100963389\n",
       "88852    100963389\n",
       "88853    100963389\n",
       "88854    100963389\n",
       "88855    100963389\n",
       "Name: reports, Length: 88856, dtype: object"
      ]
     },
     "execution_count": 11,
     "metadata": {},
     "output_type": "execute_result"
    }
   ],
   "source": [
    "patient_ids"
   ]
  },
  {
   "cell_type": "code",
   "execution_count": 14,
   "metadata": {},
   "outputs": [
    {
     "data": {
      "text/plain": [
       "0        104602972\n",
       "13       101756773\n",
       "22       109960307\n",
       "27       103323914\n",
       "30       102301584\n",
       "           ...    \n",
       "88817    100023223\n",
       "88822    104643520\n",
       "88827    100628890\n",
       "88837    103380379\n",
       "88843    100963389\n",
       "Name: reports, Length: 11004, dtype: object"
      ]
     },
     "execution_count": 14,
     "metadata": {},
     "output_type": "execute_result"
    }
   ],
   "source": [
    "patient_ids.drop_duplicates()"
   ]
  },
  {
   "cell_type": "code",
   "execution_count": 15,
   "metadata": {},
   "outputs": [
    {
     "name": "stderr",
     "output_type": "stream",
     "text": [
      "\n",
      "\n",
      "0it [00:00, ?it/s]\u001b[A\u001b[A\n",
      "\n",
      "1it [00:08,  8.61s/it]\u001b[A\u001b[A\n",
      "\n",
      "2it [00:17,  8.61s/it]\u001b[A\u001b[A\n",
      "\n",
      "3it [00:27,  9.13s/it]\u001b[A\u001b[A\n",
      "\n",
      "4it [00:37,  9.41s/it]\u001b[A\u001b[A\n",
      "\n",
      "5it [00:43,  8.48s/it]\u001b[A\u001b[A\n",
      "\n",
      "6it [00:50,  7.93s/it]\u001b[A\u001b[A\n",
      "\n",
      "7it [00:58,  8.02s/it]\u001b[A\u001b[A\n",
      "\n",
      "8it [01:07,  8.17s/it]\u001b[A\u001b[A\n",
      "\n",
      "9it [01:15,  8.29s/it]\u001b[A\u001b[A\n",
      "\n",
      "10it [01:21,  7.62s/it]\u001b[A\u001b[A\n",
      "\n",
      "11it [01:38, 10.37s/it]\u001b[A\u001b[A\n",
      "\n",
      "12it [01:44,  9.13s/it]\u001b[A\u001b[A\n",
      "\n",
      "13it [01:55,  9.43s/it]\u001b[A\u001b[A\n",
      "\n",
      "14it [02:01,  8.48s/it]\u001b[A\u001b[A\n",
      "\n",
      "15it [02:08,  8.20s/it]\u001b[A\u001b[A\n",
      "\n",
      "16it [02:18,  8.73s/it]\u001b[A\u001b[A\n",
      "\n",
      "17it [02:26,  8.30s/it]\u001b[A\u001b[A\n",
      "\n",
      "18it [02:34,  8.20s/it]\u001b[A\u001b[A\n",
      "\n",
      "19it [02:39,  8.40s/it]\u001b[A\u001b[A\n"
     ]
    }
   ],
   "source": [
    "patient_ids = None\n",
    "chunk_iterator = tqdm(pd.read_csv('val.data', compression='gzip', chunksize=1000))\n",
    "for x in chunk_iterator:\n",
    "    patient_ids_temp = x.reports.apply(get_patient_id)\n",
    "    if patient_ids is None:\n",
    "        patient_ids = patient_ids_temp\n",
    "    else:\n",
    "        patient_ids = pd.concat([patient_ids, patient_ids_temp])"
   ]
  },
  {
   "cell_type": "code",
   "execution_count": 16,
   "metadata": {},
   "outputs": [
    {
     "data": {
      "text/plain": [
       "0        100083591\n",
       "1        100083591\n",
       "2        100083591\n",
       "3        100083591\n",
       "4        100083591\n",
       "           ...    \n",
       "18721    102283653\n",
       "18722    102283653\n",
       "18723    102283653\n",
       "18724    102594653\n",
       "18725    102594653\n",
       "Name: reports, Length: 18726, dtype: object"
      ]
     },
     "execution_count": 16,
     "metadata": {},
     "output_type": "execute_result"
    }
   ],
   "source": [
    "patient_ids"
   ]
  },
  {
   "cell_type": "code",
   "execution_count": 17,
   "metadata": {},
   "outputs": [
    {
     "data": {
      "text/plain": [
       "0        100083591\n",
       "24       100706631\n",
       "36       102794312\n",
       "37       100855785\n",
       "42       100898426\n",
       "           ...    \n",
       "18683    100852159\n",
       "18697    103689955\n",
       "18713    100728012\n",
       "18716    102283653\n",
       "18724    102594653\n",
       "Name: reports, Length: 2338, dtype: object"
      ]
     },
     "execution_count": 17,
     "metadata": {},
     "output_type": "execute_result"
    }
   ],
   "source": [
    "patient_ids.drop_duplicates()"
   ]
  },
  {
   "cell_type": "code",
   "execution_count": 18,
   "metadata": {},
   "outputs": [
    {
     "name": "stderr",
     "output_type": "stream",
     "text": [
      "\n",
      "\n",
      "0it [00:00, ?it/s]\u001b[A\u001b[A\n",
      "\n",
      "1it [00:07,  7.09s/it]\u001b[A\u001b[A\n",
      "\n",
      "2it [00:13,  6.93s/it]\u001b[A\u001b[A\n",
      "\n",
      "3it [00:34, 11.12s/it]\u001b[A\u001b[A\n",
      "\n",
      "4it [00:43, 10.34s/it]\u001b[A\u001b[A\n",
      "\n",
      "5it [00:49,  9.13s/it]\u001b[A\u001b[A\n",
      "\n",
      "6it [00:55,  8.37s/it]\u001b[A\u001b[A\n",
      "\n",
      "7it [01:03,  8.15s/it]\u001b[A\u001b[A\n",
      "\n",
      "8it [01:11,  7.93s/it]\u001b[A\u001b[A\n",
      "\n",
      "9it [01:21,  8.55s/it]\u001b[A\u001b[A\n",
      "\n",
      "10it [01:29,  8.63s/it]\u001b[A\u001b[A\n",
      "\n",
      "11it [01:37,  8.27s/it]\u001b[A\u001b[A\n",
      "\n",
      "12it [01:45,  8.17s/it]\u001b[A\u001b[A\n",
      "\n",
      "13it [01:51,  7.71s/it]\u001b[A\u001b[A\n",
      "\n",
      "14it [02:00,  7.92s/it]\u001b[A\u001b[A\n",
      "\n",
      "15it [02:06,  7.44s/it]\u001b[A\u001b[A\n",
      "\n",
      "16it [02:14,  7.54s/it]\u001b[A\u001b[A\n",
      "\n",
      "17it [02:26,  8.82s/it]\u001b[A\u001b[A\n",
      "\n",
      "18it [02:32,  8.10s/it]\u001b[A\u001b[A\n",
      "\n",
      "19it [02:39,  8.37s/it]\u001b[A\u001b[A\n"
     ]
    }
   ],
   "source": [
    "patient_ids = None\n",
    "chunk_iterator = tqdm(pd.read_csv('test.data', compression='gzip', chunksize=1000))\n",
    "for x in chunk_iterator:\n",
    "    patient_ids_temp = x.reports.apply(get_patient_id)\n",
    "    if patient_ids is None:\n",
    "        patient_ids = patient_ids_temp\n",
    "    else:\n",
    "        patient_ids = pd.concat([patient_ids, patient_ids_temp])"
   ]
  },
  {
   "cell_type": "code",
   "execution_count": 19,
   "metadata": {},
   "outputs": [
    {
     "data": {
      "text/plain": [
       "0        100021633\n",
       "1        100021633\n",
       "2        100021633\n",
       "3        100021633\n",
       "4        100021633\n",
       "           ...    \n",
       "18890    104106028\n",
       "18891    104106028\n",
       "18892    104106028\n",
       "18893    100096204\n",
       "18894    100096204\n",
       "Name: reports, Length: 18895, dtype: object"
      ]
     },
     "execution_count": 19,
     "metadata": {},
     "output_type": "execute_result"
    }
   ],
   "source": [
    "patient_ids"
   ]
  },
  {
   "cell_type": "code",
   "execution_count": 20,
   "metadata": {},
   "outputs": [
    {
     "data": {
      "text/plain": [
       "0        100021633\n",
       "14       102654659\n",
       "17       101311444\n",
       "18       101728779\n",
       "24       105269500\n",
       "           ...    \n",
       "18867    110782080\n",
       "18872    101739418\n",
       "18889    100611758\n",
       "18890    104106028\n",
       "18893    100096204\n",
       "Name: reports, Length: 2337, dtype: object"
      ]
     },
     "execution_count": 20,
     "metadata": {},
     "output_type": "execute_result"
    }
   ],
   "source": [
    "patient_ids.drop_duplicates()"
   ]
  },
  {
   "cell_type": "code",
   "execution_count": 24,
   "metadata": {},
   "outputs": [],
   "source": [
    "reports = pd.read_csv('/home/jered/Documents/data/Dataset_10-11-2019/preprocessed/medical_reports.csv', parse_dates=['date'])\n",
    "patient_ids = list(set(reports.patient_id))"
   ]
  },
  {
   "cell_type": "code",
   "execution_count": 25,
   "metadata": {},
   "outputs": [],
   "source": [
    "import random\n",
    "random.seed(0)\n",
    "random.shuffle(patient_ids)\n",
    "div1 = int(len(patient_ids)*.7)\n",
    "div2 = int(len(patient_ids)*.85)"
   ]
  },
  {
   "cell_type": "code",
   "execution_count": 26,
   "metadata": {},
   "outputs": [
    {
     "data": {
      "text/plain": [
       "(13888, 2976, 2977)"
      ]
     },
     "execution_count": 26,
     "metadata": {},
     "output_type": "execute_result"
    }
   ],
   "source": [
    "div1, div2-div1, len(patient_ids)-div2"
   ]
  },
  {
   "cell_type": "code",
   "execution_count": 27,
   "metadata": {},
   "outputs": [
    {
     "data": {
      "text/plain": [
       "19841"
      ]
     },
     "execution_count": 27,
     "metadata": {},
     "output_type": "execute_result"
    }
   ],
   "source": [
    "len(patient_ids)"
   ]
  },
  {
   "cell_type": "code",
   "execution_count": 1,
   "metadata": {},
   "outputs": [],
   "source": [
    "from pytt.utils import read_pickle\n",
    "graph = read_pickle('/home/jered/Documents/data/icd_codes/code_graph_radiology_expanded.pkl')\n"
   ]
  },
  {
   "cell_type": "code",
   "execution_count": 11,
   "metadata": {},
   "outputs": [
    {
     "name": "stdout",
     "output_type": "stream",
     "text": [
      "1\n",
      "7\n",
      "2\n",
      "87\n",
      "3\n",
      "2455\n",
      "4\n",
      "689\n",
      "5\n",
      "57\n",
      "6\n",
      "15\n"
     ]
    }
   ],
   "source": [
    "nodes = ['<start_node>']\n",
    "for i in range(1,7):\n",
    "    print(i)\n",
    "    nodes = set([c for n in nodes for c in graph[n]])\n",
    "    print(len(nodes))"
   ]
  },
  {
   "cell_type": "code",
   "execution_count": 10,
   "metadata": {},
   "outputs": [
    {
     "data": {
      "text/plain": [
       "['Trauma',\n",
       " 'Infection',\n",
       " 'Neoplasm',\n",
       " 'Vascular',\n",
       " 'Demyelinating/Autoimmune',\n",
       " 'Neurodegenerative',\n",
       " 'Metabolic and Endocrine']"
      ]
     },
     "execution_count": 10,
     "metadata": {},
     "output_type": "execute_result"
    }
   ],
   "source": []
  },
  {
   "cell_type": "code",
   "execution_count": null,
   "metadata": {},
   "outputs": [],
   "source": []
  }
 ],
 "metadata": {
  "kernelspec": {
   "display_name": "Python 3",
   "language": "python",
   "name": "python3"
  },
  "language_info": {
   "codemirror_mode": {
    "name": "ipython",
    "version": 3
   },
   "file_extension": ".py",
   "mimetype": "text/x-python",
   "name": "python",
   "nbconvert_exporter": "python",
   "pygments_lexer": "ipython3",
   "version": "3.6.8"
  }
 },
 "nbformat": 4,
 "nbformat_minor": 4
}
